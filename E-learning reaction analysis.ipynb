{
 "cells": [
  {
   "cell_type": "code",
   "execution_count": null,
   "id": "b631d268",
   "metadata": {},
   "outputs": [],
   "source": [
    "import numpy as np\n",
    "import pandas as pd\n",
    "import matplotlib.pyplot as plt\n",
    "import seaborn as sns"
   ]
  },
  {
   "cell_type": "code",
   "execution_count": null,
   "id": "b4277712",
   "metadata": {},
   "outputs": [],
   "source": [
    "df1=pd.read_csv(\"online_classroom_data.csv\", decimal='.')"
   ]
  },
  {
   "cell_type": "code",
   "execution_count": null,
   "id": "d0c3ad54",
   "metadata": {},
   "outputs": [],
   "source": [
    "df2=pd.read_csv(\"online_classroom_data.csv\", decimal=',')"
   ]
  },
  {
   "cell_type": "markdown",
   "id": "2ed47a6a",
   "metadata": {},
   "source": [
    "# The dataset contains student skill evaluations and the number of reactions received to their posts in e-learning platform, and the main question is to find a link between the reactions and the students' skill levels."
   ]
  },
  {
   "cell_type": "code",
   "execution_count": null,
   "id": "b163f10f",
   "metadata": {},
   "outputs": [],
   "source": [
    "a=[]\n",
    "for i in range(1,6):\n",
    "    df1[f\"Characteristic_{i}\"]= df2[f\"sk{i}_classroom\"]\n",
    "    df1.drop(columns=[f\"sk{i}_classroom\"],axis=0, inplace=True)\n",
    "    a.append(df1[f\"Characteristic_{i}\"].mean())\n",
    "    \n"
   ]
  },
  {
   "cell_type": "code",
   "execution_count": null,
   "id": "c2e44ebc",
   "metadata": {},
   "outputs": [],
   "source": [
    "a"
   ]
  },
  {
   "cell_type": "code",
   "execution_count": null,
   "id": "a175cde7",
   "metadata": {
    "scrolled": true
   },
   "outputs": [],
   "source": [
    "df1.head()"
   ]
  },
  {
   "cell_type": "code",
   "execution_count": null,
   "id": "480e71e2",
   "metadata": {},
   "outputs": [],
   "source": [
    "df1.describe()"
   ]
  },
  {
   "cell_type": "code",
   "execution_count": null,
   "id": "5452a580",
   "metadata": {},
   "outputs": [],
   "source": [
    "df1.isna().sum()"
   ]
  },
  {
   "cell_type": "code",
   "execution_count": null,
   "id": "906287bd",
   "metadata": {
    "scrolled": true
   },
   "outputs": [],
   "source": [
    "df1.dtypes"
   ]
  },
  {
   "cell_type": "markdown",
   "id": "eb099c66",
   "metadata": {},
   "source": [
    "# Below we can see the barplot of all 71 students' verification status in e-learning platform"
   ]
  },
  {
   "cell_type": "code",
   "execution_count": null,
   "id": "a0756ea1",
   "metadata": {},
   "outputs": [],
   "source": [
    "category_approved = df1[\"Approved\"].sum()\n",
    "category_not_approved = df1[\"Approved\"].count()-df1[\"Approved\"].sum()\n",
    "\n",
    "# Plotting\n",
    "plt.bar([\"Approved in Platform\", \"Not approved in Platform\"], [category_approved, category_not_approved], color=[\"purple\", \"blue\"])\n",
    "plt.xlabel(\"Categories\")\n",
    "plt.ylabel(\"Count\")\n",
    "plt.title(\"Barplot of students verification status\")\n",
    "plt.text(0, category_approved/2, f\"{category_approved} students\", ha=\"center\", va=\"center\", color=\"white\")\n",
    "plt.text(1, category_not_approved/2, f\"{category_not_approved} students\", ha=\"center\", va=\"center\", color=\"white\")\n",
    "plt.show()"
   ]
  },
  {
   "cell_type": "markdown",
   "id": "1c7f3b53",
   "metadata": {},
   "source": [
    "# Total posts for different buckets of time spent online"
   ]
  },
  {
   "cell_type": "code",
   "execution_count": null,
   "id": "9e983611",
   "metadata": {},
   "outputs": [],
   "source": [
    "ax = sns.barplot(y=df1[\"total_posts\"], x= df1[\"timeonline\"],)\n"
   ]
  },
  {
   "cell_type": "markdown",
   "id": "982afbec",
   "metadata": {},
   "source": [
    "# Below we plot histograms for all skill ratings with their appropriate mean value desplayed as vertical dashed line"
   ]
  },
  {
   "cell_type": "code",
   "execution_count": null,
   "id": "b3537091",
   "metadata": {},
   "outputs": [],
   "source": [
    "desc=[\"Critical Thinking and Problem Solving Skills  of a student\",\"Criativity and Inovation Skills of a student\",\"Constant and Self Learning Skills\",\"Collaboration and Self-Direction Skills  of a student\",\n",
    "  \"Social and Cultural Responsability of a student\"]\n",
    "for i in range(1,6):\n",
    "    charact = df1.filter(regex=f'^Characteristic_{i}')\n",
    "\n",
    "    # plot histograms for each column\n",
    "    charact.hist(figsize=(10,6), bins=10)\n",
    "    plt.axvline(a[i-1], color='purple', linestyle='dashed', linewidth=2)\n",
    "    plt.text(a[i-1]-0.3,12,'Mean value',rotation=90)\n",
    "    plt.title(f\"{desc[i-1]}\")\n",
    "    plt.show()"
   ]
  },
  {
   "cell_type": "markdown",
   "id": "242f36fb",
   "metadata": {},
   "source": [
    "# We may also plot the histograms with their density approximation"
   ]
  },
  {
   "cell_type": "code",
   "execution_count": null,
   "id": "b1555ee3",
   "metadata": {},
   "outputs": [],
   "source": [
    "for i in range(1,6):\n",
    "    sns.displot(df1[f\"Characteristic_{i}\"], kde=True)\n",
    "    plt.show()"
   ]
  },
  {
   "cell_type": "markdown",
   "id": "f1e4ee6e",
   "metadata": {},
   "source": [
    "# Boxplots for different reactions' intensities students received for their posts"
   ]
  },
  {
   "cell_type": "code",
   "execution_count": null,
   "id": "9b356b64",
   "metadata": {},
   "outputs": [],
   "source": [
    "reactions=[\"total_posts\",\"helpful_post\",\"nice_code_post\",\"collaborative_post\",\n",
    " \"confused_post\",\"creative_post\",\"bad_post\",\"amazing_post\"]\n",
    "df2= df1[reactions]\n",
    "fig, ax = plt.subplots(figsize=(14, 6))\n",
    "df2.boxplot(ax=ax)\n",
    "ax.set_title(\"Boxplots of reactions students received for their posts\")\n",
    "ax.set_ylabel(\"Number of reactions\")\n",
    "plt.show()"
   ]
  },
  {
   "cell_type": "code",
   "execution_count": null,
   "id": "0ac84f91",
   "metadata": {},
   "outputs": [],
   "source": [
    "Q3 = np.quantile(df2, 0.75, axis=0)\n",
    "Q1 = np.quantile(df2, 0.25, axis=0)\n",
    "IQR = Q3 - Q1"
   ]
  },
  {
   "cell_type": "code",
   "execution_count": null,
   "id": "aa201d56",
   "metadata": {},
   "outputs": [],
   "source": [
    "IQR"
   ]
  },
  {
   "cell_type": "markdown",
   "id": "30100e35",
   "metadata": {},
   "source": [
    "# Below we try to identify students  who have reactions out of 2*SD range"
   ]
  },
  {
   "cell_type": "code",
   "execution_count": null,
   "id": "9c2bd193",
   "metadata": {},
   "outputs": [],
   "source": [
    "outlier_threshold = 2\n",
    "\n",
    "# Calculate mean and standard deviation for each column\n",
    "mean = df2.mean()\n",
    "std = df2.std()\n",
    "\n",
    "# Identify outlier indexes for each column\n",
    "outliers = ((df2 - mean).abs() > outlier_threshold *std).any(axis=1)\n",
    "outlier_indexes = df2.index[outliers]\n"
   ]
  },
  {
   "cell_type": "code",
   "execution_count": null,
   "id": "94432c38",
   "metadata": {},
   "outputs": [],
   "source": [
    "outliers.sum()"
   ]
  },
  {
   "cell_type": "code",
   "execution_count": null,
   "id": "1dc220de",
   "metadata": {
    "scrolled": true
   },
   "outputs": [],
   "source": [
    "outlier_threshold *std"
   ]
  },
  {
   "cell_type": "code",
   "execution_count": null,
   "id": "cc926414",
   "metadata": {
    "scrolled": false
   },
   "outputs": [],
   "source": [
    "out=df2[outliers]\n",
    "out"
   ]
  },
  {
   "cell_type": "code",
   "execution_count": null,
   "id": "f7a48618",
   "metadata": {
    "scrolled": true
   },
   "outputs": [],
   "source": [
    "print(out.index)"
   ]
  },
  {
   "cell_type": "code",
   "execution_count": null,
   "id": "33318ca7",
   "metadata": {},
   "outputs": [],
   "source": [
    "df_outliers=df1.loc[df1.index[out.index]]"
   ]
  },
  {
   "cell_type": "code",
   "execution_count": null,
   "id": "c763862e",
   "metadata": {
    "scrolled": true
   },
   "outputs": [],
   "source": [
    "df_outliers"
   ]
  },
  {
   "cell_type": "code",
   "execution_count": null,
   "id": "fb77ded8",
   "metadata": {},
   "outputs": [],
   "source": []
  },
  {
   "cell_type": "markdown",
   "id": "06b6697f",
   "metadata": {},
   "source": [
    "# We may create correlation heatmaps for both initial data, and the data of students who had out of range reactions on thair posts"
   ]
  },
  {
   "cell_type": "code",
   "execution_count": null,
   "id": "df234d4e",
   "metadata": {},
   "outputs": [],
   "source": []
  },
  {
   "cell_type": "code",
   "execution_count": null,
   "id": "87a0519e",
   "metadata": {},
   "outputs": [],
   "source": []
  },
  {
   "cell_type": "code",
   "execution_count": null,
   "id": "1a3fa91f",
   "metadata": {},
   "outputs": [],
   "source": [
    "plt.figure(figsize=(15,10))\n",
    "ax=sns.heatmap(df1.corr(), annot=True,cmap=\"crest\" )\n",
    "ax.set_title(\"Correlation heatmap for all 71 students\")\n",
    "plt.show()"
   ]
  },
  {
   "cell_type": "code",
   "execution_count": null,
   "id": "3809a3eb",
   "metadata": {},
   "outputs": [],
   "source": [
    "plt.figure(figsize=(15,10))\n",
    "ax1=sns.heatmap(df_outliers.corr(), annot=True,cmap=\"crest\" )\n",
    "ax1.set_title(ax.set_title(\"Correlation heatmap for 10 students showing high deviance\"))\n",
    "plt.show()"
   ]
  },
  {
   "cell_type": "markdown",
   "id": "3af77254",
   "metadata": {},
   "source": [
    "# We may track high(>0.7 or<-0.7) correlation pairs s \n",
    "# [Critical Thinking and Problem Solving Skills  of a student and Creative post],\n",
    "# [Criativity and Inovation Skills of a student and Collaborative_post , Creative_post, and Amazing_post ],\n",
    "# [Constant and Self Learning Skills and Collaborative_post ,  Creative_post],\n",
    "# [Collaboration and Self-Direction Skills and timeonline] }"
   ]
  }
 ],
 "metadata": {
  "kernelspec": {
   "display_name": "Python 3 (ipykernel)",
   "language": "python",
   "name": "python3"
  },
  "language_info": {
   "codemirror_mode": {
    "name": "ipython",
    "version": 3
   },
   "file_extension": ".py",
   "mimetype": "text/x-python",
   "name": "python",
   "nbconvert_exporter": "python",
   "pygments_lexer": "ipython3",
   "version": "3.9.12"
  }
 },
 "nbformat": 4,
 "nbformat_minor": 5
}
